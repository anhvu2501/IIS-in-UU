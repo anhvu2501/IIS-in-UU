{
 "cells": [
  {
   "cell_type": "markdown",
   "metadata": {},
   "source": [
    "# Assignment 1\n",
    "\n",
    "__Note__: *For general instructions about Assignment 1 as well as deadlines, please refer to the acompanying PDF document on Studium.*\n",
    "\n",
    "### Setup\n",
    "\n",
    "This notebook is there to help you complete Assignment 1. It contains 3 sections (one for each task of the assignment) that guide you through the processes of completing the assignment. First import the required libraries:"
   ]
  },
  {
   "cell_type": "code",
   "execution_count": 1,
   "metadata": {},
   "outputs": [],
   "source": [
    "%matplotlib widget"
   ]
  },
  {
   "cell_type": "code",
   "execution_count": 2,
   "metadata": {},
   "outputs": [],
   "source": [
    "import cv2\n",
    "import numpy as np\n",
    "from ipywebrtc import CameraStream, VideoRecorder\n",
    "from src.app import AnnotationApp\n",
    "from src.landmark_names import landmark_names\n",
    "from imageio import v3 as iio\n",
    "from numpy.lib.stride_tricks import as_strided\n",
    "import matplotlib.pyplot as plt\n",
    "from src.skbot_replacement import linear_trajectory\n",
    "from zipfile import ZipFile\n",
    "from IPython.display import YouTubeVideo"
   ]
  },
  {
   "cell_type": "code",
   "execution_count": 3,
   "metadata": {},
   "outputs": [],
   "source": [
    "gestures = [\n",
    "    \"ASL_letter_A\",\n",
    "    \"ASL_letter_B\",\n",
    "    \"ASL_letter_C\",\n",
    "    \"ASL_letter_L\",\n",
    "    \"ASL_letter_R\",\n",
    "    \"ASL_letter_U\",\n",
    "]"
   ]
  },
  {
   "cell_type": "markdown",
   "metadata": {},
   "source": [
    "### Metadata\n",
    "\n",
    "This notebook will generate the files you have to upload in completion of Task 1 and Task 2. In order to ensure that these files will be named correctly, update the variables below with the appropriate values:"
   ]
  },
  {
   "cell_type": "code",
   "execution_count": 4,
   "metadata": {},
   "outputs": [],
   "source": [
    "# update the variables below to the correct values\n",
    "last_name = \"HO\"\n",
    "first_name = \"VU\"\n",
    "student_number = \"20010502-T018\""
   ]
  },
  {
   "cell_type": "markdown",
   "metadata": {},
   "source": [
    "# Task 1 - Anonymized Videos"
   ]
  },
  {
   "cell_type": "markdown",
   "metadata": {},
   "source": [
    "### Recording the Gestures\n",
    "\n",
    "Task 1 asks you to record a total of 6 videos of your hand (6 seconds per video), with each video showing a different gesture. The required gestures change from year to year, so please refer to the instruction document for Assignment 1 for the exact gestures that you will have to record.\n",
    "\n",
    "Currently, the overarching theme is american sign language (ASL) and below you can find a visualization of the ASL alphabet:\n",
    "\n",
    "![ASL Alphabet](https://t3.ftcdn.net/jpg/02/42/65/88/360_F_242658839_l38u5LVWSROrFMLQasxLJgl6sk8yAq9m.jpg)\n",
    "(Source: Adobe Stock)"
   ]
  },
  {
   "cell_type": "markdown",
   "metadata": {},
   "source": [
    "**Important:** While recording the videos move your hand around slowly. For this, pick a constant direction (in 3D) and move your hand slowly in that direction. This is done to create more diverse training data. The hand can be anywhere on the screen, arbitrarily rotated, and at any distance from the camera (as long as it is still clearly identifiable as a hand). The broader the set of examples, the more robust the trained model will be."
   ]
  },
  {
   "cell_type": "code",
   "execution_count": 5,
   "metadata": {},
   "outputs": [
    {
     "data": {
      "image/jpeg": "[encoded data removed]",
      "text/html": [
       "\n",
       "        <iframe\n",
       "            width=\"400\"\n",
       "            height=\"300\"\n",
       "            src=\"https://www.youtube.com/embed/VSu_Nkn7TzY\"\n",
       "            frameborder=\"0\"\n",
       "            allowfullscreen\n",
       "            \n",
       "        ></iframe>\n",
       "        "
      ],
      "text/plain": [
       "<IPython.lib.display.YouTubeVideo at 0x7fb11face940>"
      ]
     },
     "execution_count": 5,
     "metadata": {},
     "output_type": "execute_result"
    }
   ],
   "source": [
    "YouTubeVideo(\"VSu_Nkn7TzY\")"
   ]
  },
  {
   "cell_type": "markdown",
   "metadata": {},
   "source": [
    "_Example 1_: Place your hand on the left side of the image, show the gesture and start recording. Then - over the course of 6 seconds - slowly move your hand to the right side of the image."
   ]
  },
  {
   "cell_type": "code",
   "execution_count": 6,
   "metadata": {},
   "outputs": [
    {
     "data": {
      "image/jpeg": "[encoded data removed]",
      "text/html": [
       "\n",
       "        <iframe\n",
       "            width=\"400\"\n",
       "            height=\"300\"\n",
       "            src=\"https://www.youtube.com/embed/ZEdfzmMntHs\"\n",
       "            frameborder=\"0\"\n",
       "            allowfullscreen\n",
       "            \n",
       "        ></iframe>\n",
       "        "
      ],
      "text/plain": [
       "<IPython.lib.display.YouTubeVideo at 0x7fb11facecd0>"
      ]
     },
     "execution_count": 6,
     "metadata": {},
     "output_type": "execute_result"
    }
   ],
   "source": [
    "YouTubeVideo(\"ZEdfzmMntHs\")"
   ]
  },
  {
   "cell_type": "markdown",
   "metadata": {},
   "source": [
    "_Example 2_: Place your hand in the bottom of the image, show the gesture and start recording. Then - over the course of 6 seconds - move your hand up towards the top of.\n",
    "\n",
    "*__Note__: We will aggregate the videos from all assignments into a large dataset that you will use during the final project. For this you will anonymize the recorded videos in the next step by blurring your face. If you feel that this level of anonymization is insufficient, you can avoid recording your face or use another means of anonymization.*"
   ]
  },
  {
   "cell_type": "code",
   "execution_count": 5,
   "metadata": {
    "scrolled": false
   },
   "outputs": [
    {
     "data": {
      "application/vnd.jupyter.widget-view+json": {
       "model_id": "",
       "version_major": 2,
       "version_minor": 0
      },
      "text/plain": [
       "CameraStream(constraints={'facing_mode': 'user', 'audio': False, 'video': {'width': 640, 'height': 480}})"
      ]
     },
     "metadata": {},
     "output_type": "display_data"
    }
   ],
   "source": [
    "camera = CameraStream(constraints=\n",
    "                      {'facing_mode': 'user',\n",
    "                       'audio': False,\n",
    "                       'video': { 'width': 640, 'height': 480}\n",
    "                       })\n",
    "camera"
   ]
  },
  {
   "cell_type": "code",
   "execution_count": 6,
   "metadata": {
    "scrolled": false
   },
   "outputs": [
    {
     "data": {
      "application/vnd.jupyter.widget-view+json": {
       "model_id": "40802fe11ced4b1eaedd771d54739478",
       "version_major": 2,
       "version_minor": 0
      },
      "text/plain": [
       "VideoRecorder(stream=CameraStream(constraints={'facing_mode': 'user', 'audio': False, 'video': {'width': 640, …"
      ]
     },
     "metadata": {},
     "output_type": "display_data"
    }
   ],
   "source": [
    "recorder = VideoRecorder(stream=camera)\n",
    "recorder"
   ]
  },
  {
   "cell_type": "code",
   "execution_count": 7,
   "metadata": {},
   "outputs": [],
   "source": [
    "camera.close()"
   ]
  },
  {
   "cell_type": "markdown",
   "metadata": {},
   "source": [
    "Once you are happy with the video save it as a MP4 file. The filename should be the name of the gesture that has been recorded. For example, if you recorded the letter A, then the filename would be `ASL_letter_A.mp4`."
   ]
  },
  {
   "cell_type": "code",
   "execution_count": 60,
   "metadata": {},
   "outputs": [],
   "source": [
    "gesture_name = \"ASL_letter_A\""
   ]
  },
  {
   "cell_type": "code",
   "execution_count": 61,
   "metadata": {},
   "outputs": [],
   "source": [
    "with iio.imopen(recorder.video.value, \"r\", format=\"ffmpeg\") as video_in:\n",
    "    frames = video_in.read()\n",
    "\n",
    "iio.imwrite(f\"{gesture_name}.mp4\", frames, fps=30)"
   ]
  },
  {
   "cell_type": "markdown",
   "metadata": {},
   "source": [
    "**Please review the videos before you continue** and ensure that:\n",
    "\n",
    "-\tThe name of the file must match the gesture shown in the video\n",
    "-\tThe video must be in MP4 format\n",
    "-\tThe gesture is shown for at least 6 seconds\n",
    "-\tThe hand showing the gesture is not occluded by any objects\n",
    "-\tThe hand showing the gesture does not occlude your face (if present)\n",
    "-\tThe video must be anonymized\n",
    "\n",
    "If your video does not satisfy the above, __we will reject it__ and you will have to record it again (and redo the annotations for that video)."
   ]
  },
  {
   "cell_type": "markdown",
   "metadata": {},
   "source": [
    "### Anonymizing the Video\n",
    "\n",
    "Run the snippet below. It uses the face detection method presented in lab 1 to track your face and then applies gaussian blur to it."
   ]
  },
  {
   "cell_type": "code",
   "execution_count": 8,
   "metadata": {
    "scrolled": true
   },
   "outputs": [],
   "source": [
    "for condition in gestures:\n",
    "    frames = iio.imread(f\"{condition}.mp4\")\n",
    "    face_cascade = cv2.CascadeClassifier('frontal_face_features.xml')\n",
    "\n",
    "    # find the face in each frame (only keep exact matches)\n",
    "    timestamps = list()\n",
    "    face_coords = list()\n",
    "    for idx, frame in enumerate(frames):\n",
    "        faces = face_cascade.detectMultiScale(frame)\n",
    "        if len(faces) == 1:\n",
    "            timestamps.append(idx)\n",
    "            face_coords.append(faces[0])\n",
    "            \n",
    "    if timestamps == 0:\n",
    "        # no faces detected\n",
    "        iio.imwrite(f\"{condition}_anonymous.mp4\", frames, fps=30)\n",
    "        continue\n",
    "    \n",
    "    # Track the faces across frames and smooth the track\n",
    "    if timestamps[0] != 0:\n",
    "        timestamps.insert(0, 0)\n",
    "        face_coords.insert(0, face_coords[0])\n",
    "    if timestamps[-1] != len(frames):\n",
    "        timestamps.append(len(frames))\n",
    "        face_coords.append(face_coords[-1])\n",
    "    t_control = np.stack(timestamps)\n",
    "    face_coords = np.stack(face_coords)  \n",
    "    face_coords_interpolated = linear_trajectory(np.arange(len(frames)), face_coords, t_control=t_control)\n",
    "    face_coords_interpolated = np.round(face_coords_interpolated).astype(int)\n",
    "    \n",
    "    old_shape = face_coords_interpolated.shape\n",
    "    shape = (old_shape[0] - 5, old_shape[1], 5)\n",
    "    old_strides = face_coords_interpolated.strides\n",
    "    strides = (*old_strides, old_strides[0])    \n",
    "    face_coords_smoothed = np.round(as_strided(face_coords_interpolated, shape, strides).mean(-1)).astype(int)\n",
    "\n",
    "    # blurr the tracked area\n",
    "    # 1. extract the face ROI in each frame\n",
    "    # 2. apply incrementally apply mild blurs to incrementally larger areas\n",
    "    #    (this gives the final result a smoother look)\n",
    "    for frame, pos in zip(frames, face_coords_smoothed): \n",
    "        for partition in range(3, 10):\n",
    "            inner = pos.copy()\n",
    "            inner[0] = pos[0] + 1/partition * pos[2]\n",
    "            inner[1] = pos[1] + 1/partition * pos[3]\n",
    "            inner[2] = (partition-2)/partition * pos[2]\n",
    "            inner[3] = (partition-2)/partition * pos[3]\n",
    "\n",
    "            (x, y, w, h) = inner\n",
    "            roi = frame[y:y+h, x:x+w]   \n",
    "            roi = cv2.GaussianBlur(roi,(21, 21), 50)\n",
    "            frame[y:y+h, x:x+w] = roi\n",
    "\n",
    "        x, y, w, h = pos\n",
    "        roi = frame[y:y+h, x:x+w]   \n",
    "        roi = cv2.GaussianBlur(roi,(11, 11), 50)\n",
    "        frame[y:y+h, x:x+w] = roi\n",
    "\n",
    "    # write the frames to disk\n",
    "    num_frames = len(face_coords_smoothed)\n",
    "    iio.imwrite(f\"{condition}_anonymous.mp4\", frames[:num_frames], fps=30)"
   ]
  },
  {
   "cell_type": "markdown",
   "metadata": {},
   "source": [
    "Inspect the anonymized videos and make sure that you are happy with the result of the anonymization. Also check that the gesture is still clearly visible and not affected by the annonymization. If not, please re-record the video in question and repeat the anonymization process."
   ]
  },
  {
   "cell_type": "markdown",
   "metadata": {},
   "source": [
    "### Prepare Task 1 for submission\n",
    "\n",
    "After you have generated all the videos, group them into a zip file that can be uploaded to Studium. For this, make sure you have updated the values of the variables defined in the **Metadata** section above. Then, run the snippet below to generate the ZIP file."
   ]
  },
  {
   "cell_type": "code",
   "execution_count": 5,
   "metadata": {},
   "outputs": [],
   "source": [
    "with ZipFile(f\"{last_name}_{first_name}_{student_number}_videos.zip\", \"w\") as zipy:\n",
    "    for condition in gestures:\n",
    "        zipy.write(f\"{condition}_anonymous.mp4\", f\"{condition}.mp4\")"
   ]
  },
  {
   "cell_type": "markdown",
   "metadata": {},
   "source": [
    "# Task 2 - Annotating the Videos"
   ]
  },
  {
   "cell_type": "markdown",
   "metadata": {},
   "source": [
    "Annotate the videos that you have created in Task 1. This task will show you some of the challenges associated with \"real world\" ML projects and it tends to be the most disliked step in a ML project. It is, however, one of the most crutial ones, and the better the quality of your annotations is, the better your resulting model tends to be. To help you along in this process, we provide you with an annotation tool.\n",
    "\n",
    "**Important:** This step is crucial for good performance of your machine learning model. ML is not black magic, and your model can only ever be as good as the data you use for training. If you are sloppy here, you will not have high performance later. The saying \"trash in, trash out\" is very true."
   ]
  },
  {
   "cell_type": "markdown",
   "metadata": {},
   "source": [
    "#### How to annotate the gestures:\n",
    "\n",
    "*__Note__: If the annotation is lacking in accuracy, we will ask you to re-annotate the video before you can pass assignment 1.*\n",
    "\n",
    "0. Only annotate <u>visible</u> joints.\n",
    "1. Go to the first frame of the gesture.\n",
    "2. Place the respective joint markers onto each joint according to the figure on the right.\n",
    "3. Go to the last frame of the gesture.\n",
    "4. Move the respective joint markers to their correct position in the last frame.\n",
    "5. Go back to the first frame of the gesture.\n",
    "6. Slowly move the \"Frames\" slider forward. Whenever you see that a marker deviates from the hand's joint, adjust it so that it follows the hand again.\n",
    "7. After all videos are annotated, click the \"Save CSV\" button in the top left corner to create the CSV containing the annotations. It will be placed next to the notebook.\n",
    "\n",
    "#### How to use this annotation tool:\n",
    "\n",
    "1. Use the \"Video\" drop-down menu to select and jump between gestures (progress is preserved).\n",
    "2. Move the \"Frames\" slider at the bottom to select individual frames (progress is preserved).\n",
    "3. Click on the figure on the right, use the blue arrows on the bottom, or use the \"Joint\" drop-down menu to select a joint to annotate.\n",
    "4. Click on the image on the left to place the respective joint marker. This will automatically jump to the next joint.\n",
    "5. The marker matching the currently selected joint will turn red and you can drag it around in the image.\n",
    "5. Use the blue buttons with label \"Keyframe\" to jump to the next (or previous) frame that had the current joint marker placed on it explicitly.\n",
    "6. Use the red \"🗑️ Keyframe\" button to delete the annotation of the current joint at the current frame. This will have no effect if the current frame is not a keyframe.\n",
    "7. Use the red \"Reset Joint\" button to delete all keyframes for the current joint.\n",
    "\n",
    "#### Example Video of an Annotation"
   ]
  },
  {
   "cell_type": "code",
   "execution_count": 64,
   "metadata": {},
   "outputs": [
    {
     "data": {
      "image/jpeg": "[encoded data removed]",
      "text/html": [
       "\n",
       "        <iframe\n",
       "            width=\"400\"\n",
       "            height=\"300\"\n",
       "            src=\"https://www.youtube.com/embed/9UYYc_L3E34\"\n",
       "            frameborder=\"0\"\n",
       "            allowfullscreen\n",
       "            \n",
       "        ></iframe>\n",
       "        "
      ],
      "text/plain": [
       "<IPython.lib.display.YouTubeVideo at 0x7fb1b00acbb0>"
      ]
     },
     "execution_count": 64,
     "metadata": {},
     "output_type": "execute_result"
    }
   ],
   "source": [
    "YouTubeVideo(\"9UYYc_L3E34\")"
   ]
  },
  {
   "cell_type": "markdown",
   "metadata": {},
   "source": [
    "#### The Annotation Tool"
   ]
  },
  {
   "cell_type": "code",
   "execution_count": 6,
   "metadata": {
    "scrolled": false
   },
   "outputs": [],
   "source": [
    "%%capture\n",
    "gui = AnnotationApp(gestures, f\"{last_name}_{first_name}_{student_number}\")"
   ]
  },
  {
   "cell_type": "code",
   "execution_count": 7,
   "metadata": {
    "scrolled": false
   },
   "outputs": [
    {
     "data": {
      "application/vnd.jupyter.widget-view+json": {
       "model_id": "b6a059917e2344b4b4f8d8efee2926d6",
       "version_major": 2,
       "version_minor": 0
      },
      "text/plain": [
       "VBox(children=(HBox(children=(Button(button_style='success', description='Save CSV', icon='save', style=Button…"
      ]
     },
     "metadata": {},
     "output_type": "display_data"
    }
   ],
   "source": [
    "gui"
   ]
  },
  {
   "cell_type": "markdown",
   "metadata": {},
   "source": [
    "### Information Sheet and Consent Form\n",
    "\n",
    "Please review (and sign) the __Information Sheet and Consent Form__ document that was distributed with this assignment.\n"
   ]
  },
  {
   "cell_type": "markdown",
   "metadata": {},
   "source": [
    "# Task 3 - Annotated Videos"
   ]
  },
  {
   "cell_type": "markdown",
   "metadata": {},
   "source": [
    "Visualize the annotations (CSV from task 2) on top of each gesture (video from task 1). For this, draw circles onto each frame at the position of each visible joint. Then, draw lines that connect all pairs of visible joints that are adjacent according to the skeleton. This should result in a skeleton drawn onto the frame similar to the skeleton you saw while annotating the videos. Finally, add the text \"annotated\" into the top left corner of the frame and save the frames of each gesture as a new video.\n",
    "\n",
    "Here is the program/algorithm in pseudo-code:\n",
    "\n",
    "```\n",
    "for each video in gestures:\n",
    "    for each frame in video:\n",
    "        place a label into the top left corner that reads \"annotated\"\n",
    "        get the corresponding joint positions from the CSV file\n",
    "        draw a circle at each (non-missing) joint position\n",
    "        for each pair of visible joints connected by the skeleton:\n",
    "            draw a line between the two joints using cv2.line\n",
    "    create a new_video file called <gesture>_annotated from the annotated frames\n",
    "```\n"
   ]
  },
  {
   "cell_type": "code",
   "execution_count": 5,
   "metadata": {},
   "outputs": [],
   "source": [
    "import cv2\n",
    "import mediapipe as mp\n",
    "from imageio import v3 as iio\n",
    "import os"
   ]
  },
  {
   "cell_type": "code",
   "execution_count": 13,
   "metadata": {},
   "outputs": [
    {
     "name": "stdout",
     "output_type": "stream",
     "text": [
      "0\n",
      "1\n",
      "2\n",
      "3\n",
      "4\n",
      "5\n",
      "6\n",
      "7\n",
      "8\n",
      "9\n",
      "10\n",
      "11\n",
      "12\n",
      "13\n",
      "14\n",
      "15\n",
      "16\n",
      "17\n",
      "18\n",
      "19\n",
      "20\n",
      "21\n",
      "22\n",
      "23\n",
      "24\n",
      "25\n",
      "26\n",
      "27\n",
      "28\n",
      "29\n",
      "30\n",
      "31\n",
      "32\n",
      "33\n",
      "34\n",
      "35\n",
      "36\n",
      "37\n",
      "38\n",
      "39\n",
      "40\n",
      "41\n",
      "42\n",
      "43\n",
      "44\n",
      "45\n",
      "46\n",
      "47\n",
      "48\n",
      "49\n",
      "50\n",
      "51\n",
      "52\n",
      "53\n",
      "54\n",
      "55\n",
      "56\n",
      "57\n",
      "58\n",
      "59\n",
      "60\n",
      "61\n",
      "62\n",
      "63\n",
      "64\n",
      "65\n",
      "66\n",
      "67\n",
      "68\n",
      "69\n",
      "70\n",
      "71\n",
      "72\n",
      "73\n",
      "74\n",
      "75\n",
      "76\n",
      "77\n",
      "78\n",
      "79\n",
      "80\n",
      "81\n",
      "82\n",
      "83\n",
      "84\n",
      "85\n",
      "86\n",
      "87\n",
      "88\n",
      "89\n",
      "90\n",
      "91\n",
      "92\n",
      "93\n",
      "94\n",
      "95\n",
      "96\n",
      "97\n",
      "98\n",
      "99\n",
      "100\n",
      "101\n",
      "102\n",
      "103\n",
      "104\n",
      "105\n",
      "106\n",
      "107\n",
      "108\n",
      "109\n",
      "110\n",
      "111\n",
      "112\n",
      "113\n",
      "114\n",
      "115\n",
      "116\n",
      "117\n",
      "118\n",
      "119\n",
      "120\n",
      "121\n",
      "122\n",
      "123\n",
      "124\n",
      "125\n",
      "126\n",
      "127\n",
      "128\n",
      "129\n",
      "130\n",
      "131\n",
      "132\n",
      "133\n",
      "134\n",
      "135\n",
      "136\n",
      "137\n",
      "138\n",
      "139\n",
      "140\n",
      "141\n",
      "142\n",
      "143\n",
      "144\n",
      "145\n",
      "146\n",
      "147\n",
      "148\n",
      "149\n",
      "150\n",
      "151\n",
      "152\n",
      "153\n",
      "154\n",
      "155\n",
      "156\n",
      "157\n",
      "158\n",
      "159\n",
      "160\n",
      "161\n",
      "162\n",
      "163\n",
      "164\n",
      "165\n",
      "166\n",
      "167\n",
      "168\n",
      "169\n",
      "170\n",
      "171\n",
      "172\n",
      "173\n",
      "174\n",
      "175\n",
      "176\n",
      "177\n",
      "178\n",
      "179\n",
      "180\n",
      "181\n",
      "182\n",
      "183\n",
      "184\n",
      "185\n",
      "186\n",
      "187\n",
      "188\n",
      "189\n",
      "190\n",
      "191\n",
      "192\n",
      "193\n",
      "194\n",
      "195\n",
      "196\n",
      "197\n",
      "198\n",
      "199\n",
      "200\n",
      "201\n",
      "202\n",
      "203\n",
      "204\n",
      "205\n",
      "206\n",
      "207\n",
      "208\n",
      "209\n",
      "210\n",
      "211\n",
      "212\n",
      "213\n",
      "214\n",
      "215\n",
      "216\n",
      "217\n",
      "218\n",
      "219\n",
      "220\n",
      "221\n",
      "222\n",
      "223\n",
      "224\n",
      "225\n",
      "226\n",
      "227\n",
      "228\n",
      "229\n",
      "230\n",
      "231\n",
      "232\n",
      "233\n",
      "234\n",
      "235\n",
      "236\n",
      "237\n",
      "238\n",
      "239\n",
      "240\n",
      "241\n",
      "242\n",
      "243\n",
      "244\n",
      "245\n",
      "246\n",
      "247\n",
      "248\n",
      "249\n",
      "250\n",
      "251\n",
      "252\n",
      "253\n",
      "254\n",
      "255\n",
      "256\n",
      "257\n",
      "258\n",
      "259\n",
      "260\n",
      "261\n",
      "262\n",
      "263\n",
      "264\n",
      "265\n",
      "266\n",
      "267\n",
      "268\n",
      "269\n",
      "270\n",
      "271\n",
      "272\n",
      "273\n",
      "274\n",
      "275\n",
      "276\n",
      "277\n",
      "278\n",
      "279\n",
      "280\n",
      "281\n",
      "282\n",
      "283\n",
      "284\n",
      "285\n",
      "286\n",
      "287\n",
      "288\n",
      "289\n",
      "290\n",
      "291\n",
      "292\n"
     ]
    }
   ],
   "source": [
    "import csv\n",
    "name = \"ASL_letter_U\"\n",
    "frames = iio.imread(f\"{name}.mp4\")\n",
    "x = 120\n",
    "y = 120\n",
    "i = 0\n",
    "j = 0\n",
    "\n",
    "font = cv2.FONT_HERSHEY_SIMPLEX\n",
    "color1 = (255, 0, 0)\n",
    "color2 = (255, 255, 255)\n",
    "    \n",
    "for idx, frame in enumerate(frames):\n",
    "    print(idx)\n",
    "    with open('HO_VU_20010502-T018.csv', newline='') as f:\n",
    "        reader = csv.reader(f)\n",
    "        c = []\n",
    "        for row in reader:\n",
    "            #first row\n",
    "            #print(row)\n",
    "            if row[0] != \"ID\":\n",
    "                r = int(float(row[2]))\n",
    "            #print(\"r\",r)\n",
    "            if row[1] == name and r == idx:\n",
    "                x = int(float(row[4]))\n",
    "                y = int(float(row[5]))\n",
    "                if x != 0:\n",
    "                    cv2.circle(frame, (y, x), 5, color1, -1)\n",
    "                    c.append(row)\n",
    "    last = \"99\"\n",
    "    #print(c)\n",
    "    if c[0][3] ==\"root\":\n",
    "        rx = int(float(c[0][4]))\n",
    "        ry = int(float(c[0][5]))\n",
    "    for circle in c:\n",
    "        to_check = circle[3]\n",
    "        #print(to_check)\n",
    "        if to_check != 'root':\n",
    "            finger = to_check.split(\"_\")\n",
    "            if finger[1] == '1':\n",
    "                end_point = (int(float(circle[5])),int(float(circle[4])))\n",
    "                cv2.line(frame, (ry,rx), end_point, color2, 2)\n",
    "\n",
    "            fingerindex = int(float(finger[1]))\n",
    "            lastfingerindex = int(float(last[1]))\n",
    "            \n",
    "            offset = fingerindex - lastfingerindex\n",
    "            if finger[0] == last[0] and offset == 1:                \n",
    "                end_point = (int(float(circle[5])),int(float(circle[4])))\n",
    "                start_point = (int(float(lastC[5])),int(float(lastC[4])))\n",
    "                cv2.line(frame, start_point, end_point, color2, 2)\n",
    "                                         \n",
    "            last = finger\n",
    "            lastC = circle\n",
    "    cv2.putText(frame, 'Annotated', (10,50), font, \n",
    "                   1, color1, 1, cv2.LINE_AA)\n",
    "iio.imwrite(f\"{name}_annotated.mp4\", frames, fps=30)"
   ]
  },
  {
   "cell_type": "markdown",
   "metadata": {},
   "source": [
    "Once you are done, combine the annotated videos into a ZIP file using the snippet below."
   ]
  },
  {
   "cell_type": "code",
   "execution_count": 14,
   "metadata": {},
   "outputs": [],
   "source": [
    "with ZipFile(f\"{last_name}_{first_name}_{student_number}_annotated.zip\", \"w\") as zipy:\n",
    "    for condition in gestures:\n",
    "        zipy.write(f\"{condition}_annotated.mp4\")"
   ]
  },
  {
   "cell_type": "markdown",
   "metadata": {},
   "source": [
    "## Upload to Studium\n",
    "\n",
    "Once you are done, upload the following files to Studium:\n",
    "\n",
    "1. The filled out and signed *Information Sheet and Consent Form*\n",
    "2. The ZIP file with the anonymous videos (`<last name>_<first name>_<student number>_videos.zip`)\n",
    "3. The CSV file containing the annotations (`<last name>_<first name>_<student number>.csv`)\n",
    "4. the ZIP file with the annotated videos (`<last name>_<first name>_<student number>_videos_annotated.zip`)"
   ]
  },
  {
   "cell_type": "code",
   "execution_count": null,
   "metadata": {},
   "outputs": [],
   "source": []
  }
 ],
 "metadata": {
  "kernelspec": {
   "display_name": "Python 3 (ipykernel)",
   "language": "python",
   "name": "python3"
  },
  "language_info": {
   "codemirror_mode": {
    "name": "ipython",
    "version": 3
   },
   "file_extension": ".py",
   "mimetype": "text/x-python",
   "name": "python",
   "nbconvert_exporter": "python",
   "pygments_lexer": "ipython3",
   "version": "3.8.10"
  }
 },
 "nbformat": 4,
 "nbformat_minor": 4
}
